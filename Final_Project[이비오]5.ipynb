{
  "cells": [
    {
      "cell_type": "markdown",
      "metadata": {
        "id": "view-in-github",
        "colab_type": "text"
      },
      "source": [
        "<a href=\"https://colab.research.google.com/github/leebio/bio/blob/main/Final_Project%5B%EC%9D%B4%EB%B9%84%EC%98%A4%5D5.ipynb\" target=\"_parent\"><img src=\"https://colab.research.google.com/assets/colab-badge.svg\" alt=\"Open In Colab\"/></a>"
      ]
    },
    {
      "cell_type": "markdown",
      "id": "81b8bd29",
      "metadata": {
        "id": "81b8bd29"
      },
      "source": [
        "# Final Project_이비오"
      ]
    },
    {
      "cell_type": "markdown",
      "id": "fd91d918",
      "metadata": {
        "id": "fd91d918"
      },
      "source": [
        "# Dataset Describtion"
      ]
    },
    {
      "cell_type": "markdown",
      "id": "9e266e36",
      "metadata": {
        "id": "9e266e36"
      },
      "source": [
        "URL: https://www.kaggle.com/datasets/tawfikelmetwally/employee-dataset"
      ]
    },
    {
      "cell_type": "markdown",
      "id": "d79b0d02",
      "metadata": {
        "id": "d79b0d02"
      },
      "source": [
        "이 데이터세트에는 학력, 경력, 지역, 고용 관련 요소 등 회사 직원에 대한 정보 포함\n",
        "\n",
        "* 개인 정보를 보호하는 동시에 인력에 대한 귀중한 통찰력을 제공하기 위해 익명으로 처리되었음\n",
        "\n",
        "This dataset contains information about employees in a company, including their educational backgrounds, work history, demographics, and employment-related factors. It has been anonymized to protect privacy while still providing valuable insights into the workforce."
      ]
    },
    {
      "cell_type": "markdown",
      "id": "e1ae16a3",
      "metadata": {
        "id": "e1ae16a3"
      },
      "source": [
        "### Task:"
      ]
    },
    {
      "cell_type": "markdown",
      "id": "53d755ed",
      "metadata": {
        "id": "53d755ed"
      },
      "source": [
        "[이전 분석]\n",
        "- 2가지 모형으로 분석하여 직원 이탈(퇴사)에 대한 예측\n",
        "1. LogisticRegression -> 71.2%\n",
        "2. DecisionTreeClassifier -> 88.6%\n",
        "\n",
        "DecisionTreeClassifier 모형 초이스 ->\n",
        "   Test data 결과 -> 86.0% 의 정확도를 나타냄\n",
        "\n",
        "\n",
        "\n",
        "[나의 임무]\n",
        "- 다양한 모형 및 분석방법을 활용하여 86.0% 보다 정확도를 높이는 것\n"
      ]
    },
    {
      "cell_type": "markdown",
      "id": "b29ee2b8",
      "metadata": {
        "id": "b29ee2b8"
      },
      "source": [
        "### Datasets"
      ]
    },
    {
      "cell_type": "markdown",
      "source": [
        "4,653행 X 9열로 데이터 구성\n",
        "\n",
        "1. Education: The educational qualifications of employees, including degree, institution, and field of study.\n",
        "   \n",
        "   - 교육 수준 (3종류): Bachelors(학사), Masters(석사), PHD(박사)\n",
        "\n",
        "\n",
        "2. Joining Year: The year each employee joined the company, indicating their length of service.\n",
        "\n",
        "  - 입사년도 (7종류) : 2012, 2013, 2014, 2015, 2016, 2017, 2018\n",
        "  \n",
        "  - 12년도부터 ~ 18년도까지 7종류의 데이터로 구성\n",
        "\n",
        "\n",
        "3. City: The location or city where each employee is based or works.\n",
        "\n",
        "  - 직원이 거주하거나 근무하는 도시\n",
        "\n",
        "  - 도시 (3종류) : Bangalore, Pune, New Delhi (인도)\n",
        "\n",
        "4. Payment Tier: Categorization of employees into different salary tiers.\n",
        "\n",
        "  - 직원의 급여 계층(3종류) : 1, 2, 3\n",
        "\n",
        "5. Age: The age of each employee, providing demographic insights.\n",
        "\n",
        "   - 직원의 연령 : 21 ~ 41 까지의 숫자로 표기\n",
        "\n",
        "6. Gender: Gender identity of employees, promoting diversity analysis.\n",
        "\n",
        "   - 성별 (2종류) : Male, Female\n",
        "\n",
        "7. Ever Benched: Indicates if an employee has ever been temporarily without assigned work.\n",
        "\n",
        "   - 할당된 작업 없이 일시적으로 머물렸는지 여부(2종류) : Yes, No\n",
        "   \n",
        "\n",
        "8. Experience in Current Domain: The number of years of experience employees have in their current field.\n",
        "\n",
        "  - 경력 연수(8종류) : 0 ~ 7\n",
        "\n",
        "9. Leave or Not: a target column\n",
        "\n",
        "  - 퇴사 여부(2종류) : 0, 1\n",
        "    \n",
        "    \n",
        "* Train dataset: 80% data\n",
        "* Test dataset:  20% data\n",
        "\n"
      ],
      "metadata": {
        "id": "8aFnGRdVGT2U"
      },
      "id": "8aFnGRdVGT2U"
    },
    {
      "cell_type": "markdown",
      "id": "c9be837b",
      "metadata": {
        "id": "c9be837b"
      },
      "source": [
        "Features(x): 1-8열\n",
        "\n",
        "1.교육, 2.입사년도, 3.도시, 4.임금 티어,\n",
        "\n",
        "5.연령, 6.성별, 7.Ever Benched, 8.경력연수\n",
        "\n"
      ]
    },
    {
      "cell_type": "markdown",
      "id": "925d6e30",
      "metadata": {
        "id": "925d6e30"
      },
      "source": [
        "Target(y): 9열\n",
        "\n",
        "9.직원의 퇴사 여부"
      ]
    },
    {
      "cell_type": "markdown",
      "id": "4aee33c0",
      "metadata": {
        "id": "4aee33c0"
      },
      "source": [
        "# Model Buliding"
      ]
    },
    {
      "cell_type": "code",
      "execution_count": 1,
      "id": "8ed17fa2",
      "metadata": {
        "id": "8ed17fa2"
      },
      "outputs": [],
      "source": [
        "# 필요한 library 불러오기\n",
        "import pandas as pd\n",
        "import numpy as np\n",
        "import torch\n",
        "import torch.nn as nn\n",
        "from torch.utils.data import DataLoader, TensorDataset\n",
        "from sklearn.model_selection import train_test_split\n",
        "from sklearn.linear_model import LogisticRegression\n",
        "from sklearn.metrics import log_loss\n",
        "from sklearn.tree import DecisionTreeClassifier\n",
        "from sklearn.svm import SVC\n",
        "from sklearn.metrics import hinge_loss\n",
        "from sklearn.metrics import accuracy_score, classification_report, confusion_matrix\n",
        "from sklearn.metrics import make_scorer\n",
        "from sklearn.preprocessing import MinMaxScaler\n",
        "from sklearn.preprocessing import StandardScaler\n",
        "from sklearn.preprocessing import RobustScaler\n",
        "from mpl_toolkits.mplot3d import Axes3D\n",
        "import matplotlib.pyplot as plt\n",
        "import seaborn as sns\n",
        "import plotly.express as px\n",
        "from plotly.subplots import make_subplots\n",
        "import plotly.graph_objects as go"
      ]
    },
    {
      "cell_type": "code",
      "execution_count": 2,
      "id": "dcdaaa62",
      "metadata": {
        "id": "dcdaaa62"
      },
      "outputs": [],
      "source": [
        "employee_data = pd.read_csv(\"Employee.csv\")"
      ]
    },
    {
      "cell_type": "markdown",
      "id": "4de537f4",
      "metadata": {
        "id": "4de537f4"
      },
      "source": [
        "# 1. Data Preprocessing"
      ]
    },
    {
      "cell_type": "markdown",
      "id": "9b25f6f7",
      "metadata": {
        "id": "9b25f6f7"
      },
      "source": [
        "# 1.1 Basic Data Analysis"
      ]
    },
    {
      "cell_type": "code",
      "execution_count": 3,
      "id": "6998ea96",
      "metadata": {
        "colab": {
          "base_uri": "https://localhost:8080/",
          "height": 243
        },
        "id": "6998ea96",
        "outputId": "d8b3878e-5648-44a9-809e-e1cf981bbae5"
      },
      "outputs": [
        {
          "output_type": "execute_result",
          "data": {
            "text/plain": [
              "   Education  JoiningYear       City  PaymentTier  Age  Gender EverBenched  \\\n",
              "0  Bachelors         2017  Bangalore            3   34    Male          No   \n",
              "1  Bachelors         2013       Pune            1   28  Female          No   \n",
              "2  Bachelors         2014  New Delhi            3   38  Female          No   \n",
              "3    Masters         2016  Bangalore            3   27    Male          No   \n",
              "4    Masters         2017       Pune            3   24    Male         Yes   \n",
              "\n",
              "   ExperienceInCurrentDomain  LeaveOrNot  \n",
              "0                          0           0  \n",
              "1                          3           1  \n",
              "2                          2           0  \n",
              "3                          5           1  \n",
              "4                          2           1  "
            ],
            "text/html": [
              "\n",
              "  <div id=\"df-f8269ac2-daaa-40d9-9310-b257bad80907\" class=\"colab-df-container\">\n",
              "    <div>\n",
              "<style scoped>\n",
              "    .dataframe tbody tr th:only-of-type {\n",
              "        vertical-align: middle;\n",
              "    }\n",
              "\n",
              "    .dataframe tbody tr th {\n",
              "        vertical-align: top;\n",
              "    }\n",
              "\n",
              "    .dataframe thead th {\n",
              "        text-align: right;\n",
              "    }\n",
              "</style>\n",
              "<table border=\"1\" class=\"dataframe\">\n",
              "  <thead>\n",
              "    <tr style=\"text-align: right;\">\n",
              "      <th></th>\n",
              "      <th>Education</th>\n",
              "      <th>JoiningYear</th>\n",
              "      <th>City</th>\n",
              "      <th>PaymentTier</th>\n",
              "      <th>Age</th>\n",
              "      <th>Gender</th>\n",
              "      <th>EverBenched</th>\n",
              "      <th>ExperienceInCurrentDomain</th>\n",
              "      <th>LeaveOrNot</th>\n",
              "    </tr>\n",
              "  </thead>\n",
              "  <tbody>\n",
              "    <tr>\n",
              "      <th>0</th>\n",
              "      <td>Bachelors</td>\n",
              "      <td>2017</td>\n",
              "      <td>Bangalore</td>\n",
              "      <td>3</td>\n",
              "      <td>34</td>\n",
              "      <td>Male</td>\n",
              "      <td>No</td>\n",
              "      <td>0</td>\n",
              "      <td>0</td>\n",
              "    </tr>\n",
              "    <tr>\n",
              "      <th>1</th>\n",
              "      <td>Bachelors</td>\n",
              "      <td>2013</td>\n",
              "      <td>Pune</td>\n",
              "      <td>1</td>\n",
              "      <td>28</td>\n",
              "      <td>Female</td>\n",
              "      <td>No</td>\n",
              "      <td>3</td>\n",
              "      <td>1</td>\n",
              "    </tr>\n",
              "    <tr>\n",
              "      <th>2</th>\n",
              "      <td>Bachelors</td>\n",
              "      <td>2014</td>\n",
              "      <td>New Delhi</td>\n",
              "      <td>3</td>\n",
              "      <td>38</td>\n",
              "      <td>Female</td>\n",
              "      <td>No</td>\n",
              "      <td>2</td>\n",
              "      <td>0</td>\n",
              "    </tr>\n",
              "    <tr>\n",
              "      <th>3</th>\n",
              "      <td>Masters</td>\n",
              "      <td>2016</td>\n",
              "      <td>Bangalore</td>\n",
              "      <td>3</td>\n",
              "      <td>27</td>\n",
              "      <td>Male</td>\n",
              "      <td>No</td>\n",
              "      <td>5</td>\n",
              "      <td>1</td>\n",
              "    </tr>\n",
              "    <tr>\n",
              "      <th>4</th>\n",
              "      <td>Masters</td>\n",
              "      <td>2017</td>\n",
              "      <td>Pune</td>\n",
              "      <td>3</td>\n",
              "      <td>24</td>\n",
              "      <td>Male</td>\n",
              "      <td>Yes</td>\n",
              "      <td>2</td>\n",
              "      <td>1</td>\n",
              "    </tr>\n",
              "  </tbody>\n",
              "</table>\n",
              "</div>\n",
              "    <div class=\"colab-df-buttons\">\n",
              "\n",
              "  <div class=\"colab-df-container\">\n",
              "    <button class=\"colab-df-convert\" onclick=\"convertToInteractive('df-f8269ac2-daaa-40d9-9310-b257bad80907')\"\n",
              "            title=\"Convert this dataframe to an interactive table.\"\n",
              "            style=\"display:none;\">\n",
              "\n",
              "  <svg xmlns=\"http://www.w3.org/2000/svg\" height=\"24px\" viewBox=\"0 -960 960 960\">\n",
              "    <path d=\"M120-120v-720h720v720H120Zm60-500h600v-160H180v160Zm220 220h160v-160H400v160Zm0 220h160v-160H400v160ZM180-400h160v-160H180v160Zm440 0h160v-160H620v160ZM180-180h160v-160H180v160Zm440 0h160v-160H620v160Z\"/>\n",
              "  </svg>\n",
              "    </button>\n",
              "\n",
              "  <style>\n",
              "    .colab-df-container {\n",
              "      display:flex;\n",
              "      gap: 12px;\n",
              "    }\n",
              "\n",
              "    .colab-df-convert {\n",
              "      background-color: #E8F0FE;\n",
              "      border: none;\n",
              "      border-radius: 50%;\n",
              "      cursor: pointer;\n",
              "      display: none;\n",
              "      fill: #1967D2;\n",
              "      height: 32px;\n",
              "      padding: 0 0 0 0;\n",
              "      width: 32px;\n",
              "    }\n",
              "\n",
              "    .colab-df-convert:hover {\n",
              "      background-color: #E2EBFA;\n",
              "      box-shadow: 0px 1px 2px rgba(60, 64, 67, 0.3), 0px 1px 3px 1px rgba(60, 64, 67, 0.15);\n",
              "      fill: #174EA6;\n",
              "    }\n",
              "\n",
              "    .colab-df-buttons div {\n",
              "      margin-bottom: 4px;\n",
              "    }\n",
              "\n",
              "    [theme=dark] .colab-df-convert {\n",
              "      background-color: #3B4455;\n",
              "      fill: #D2E3FC;\n",
              "    }\n",
              "\n",
              "    [theme=dark] .colab-df-convert:hover {\n",
              "      background-color: #434B5C;\n",
              "      box-shadow: 0px 1px 3px 1px rgba(0, 0, 0, 0.15);\n",
              "      filter: drop-shadow(0px 1px 2px rgba(0, 0, 0, 0.3));\n",
              "      fill: #FFFFFF;\n",
              "    }\n",
              "  </style>\n",
              "\n",
              "    <script>\n",
              "      const buttonEl =\n",
              "        document.querySelector('#df-f8269ac2-daaa-40d9-9310-b257bad80907 button.colab-df-convert');\n",
              "      buttonEl.style.display =\n",
              "        google.colab.kernel.accessAllowed ? 'block' : 'none';\n",
              "\n",
              "      async function convertToInteractive(key) {\n",
              "        const element = document.querySelector('#df-f8269ac2-daaa-40d9-9310-b257bad80907');\n",
              "        const dataTable =\n",
              "          await google.colab.kernel.invokeFunction('convertToInteractive',\n",
              "                                                    [key], {});\n",
              "        if (!dataTable) return;\n",
              "\n",
              "        const docLinkHtml = 'Like what you see? Visit the ' +\n",
              "          '<a target=\"_blank\" href=https://colab.research.google.com/notebooks/data_table.ipynb>data table notebook</a>'\n",
              "          + ' to learn more about interactive tables.';\n",
              "        element.innerHTML = '';\n",
              "        dataTable['output_type'] = 'display_data';\n",
              "        await google.colab.output.renderOutput(dataTable, element);\n",
              "        const docLink = document.createElement('div');\n",
              "        docLink.innerHTML = docLinkHtml;\n",
              "        element.appendChild(docLink);\n",
              "      }\n",
              "    </script>\n",
              "  </div>\n",
              "\n",
              "\n",
              "<div id=\"df-36d26d32-8b69-4696-bbdc-25a21c5a1d35\">\n",
              "  <button class=\"colab-df-quickchart\" onclick=\"quickchart('df-36d26d32-8b69-4696-bbdc-25a21c5a1d35')\"\n",
              "            title=\"Suggest charts\"\n",
              "            style=\"display:none;\">\n",
              "\n",
              "<svg xmlns=\"http://www.w3.org/2000/svg\" height=\"24px\"viewBox=\"0 0 24 24\"\n",
              "     width=\"24px\">\n",
              "    <g>\n",
              "        <path d=\"M19 3H5c-1.1 0-2 .9-2 2v14c0 1.1.9 2 2 2h14c1.1 0 2-.9 2-2V5c0-1.1-.9-2-2-2zM9 17H7v-7h2v7zm4 0h-2V7h2v10zm4 0h-2v-4h2v4z\"/>\n",
              "    </g>\n",
              "</svg>\n",
              "  </button>\n",
              "\n",
              "<style>\n",
              "  .colab-df-quickchart {\n",
              "      --bg-color: #E8F0FE;\n",
              "      --fill-color: #1967D2;\n",
              "      --hover-bg-color: #E2EBFA;\n",
              "      --hover-fill-color: #174EA6;\n",
              "      --disabled-fill-color: #AAA;\n",
              "      --disabled-bg-color: #DDD;\n",
              "  }\n",
              "\n",
              "  [theme=dark] .colab-df-quickchart {\n",
              "      --bg-color: #3B4455;\n",
              "      --fill-color: #D2E3FC;\n",
              "      --hover-bg-color: #434B5C;\n",
              "      --hover-fill-color: #FFFFFF;\n",
              "      --disabled-bg-color: #3B4455;\n",
              "      --disabled-fill-color: #666;\n",
              "  }\n",
              "\n",
              "  .colab-df-quickchart {\n",
              "    background-color: var(--bg-color);\n",
              "    border: none;\n",
              "    border-radius: 50%;\n",
              "    cursor: pointer;\n",
              "    display: none;\n",
              "    fill: var(--fill-color);\n",
              "    height: 32px;\n",
              "    padding: 0;\n",
              "    width: 32px;\n",
              "  }\n",
              "\n",
              "  .colab-df-quickchart:hover {\n",
              "    background-color: var(--hover-bg-color);\n",
              "    box-shadow: 0 1px 2px rgba(60, 64, 67, 0.3), 0 1px 3px 1px rgba(60, 64, 67, 0.15);\n",
              "    fill: var(--button-hover-fill-color);\n",
              "  }\n",
              "\n",
              "  .colab-df-quickchart-complete:disabled,\n",
              "  .colab-df-quickchart-complete:disabled:hover {\n",
              "    background-color: var(--disabled-bg-color);\n",
              "    fill: var(--disabled-fill-color);\n",
              "    box-shadow: none;\n",
              "  }\n",
              "\n",
              "  .colab-df-spinner {\n",
              "    border: 2px solid var(--fill-color);\n",
              "    border-color: transparent;\n",
              "    border-bottom-color: var(--fill-color);\n",
              "    animation:\n",
              "      spin 1s steps(1) infinite;\n",
              "  }\n",
              "\n",
              "  @keyframes spin {\n",
              "    0% {\n",
              "      border-color: transparent;\n",
              "      border-bottom-color: var(--fill-color);\n",
              "      border-left-color: var(--fill-color);\n",
              "    }\n",
              "    20% {\n",
              "      border-color: transparent;\n",
              "      border-left-color: var(--fill-color);\n",
              "      border-top-color: var(--fill-color);\n",
              "    }\n",
              "    30% {\n",
              "      border-color: transparent;\n",
              "      border-left-color: var(--fill-color);\n",
              "      border-top-color: var(--fill-color);\n",
              "      border-right-color: var(--fill-color);\n",
              "    }\n",
              "    40% {\n",
              "      border-color: transparent;\n",
              "      border-right-color: var(--fill-color);\n",
              "      border-top-color: var(--fill-color);\n",
              "    }\n",
              "    60% {\n",
              "      border-color: transparent;\n",
              "      border-right-color: var(--fill-color);\n",
              "    }\n",
              "    80% {\n",
              "      border-color: transparent;\n",
              "      border-right-color: var(--fill-color);\n",
              "      border-bottom-color: var(--fill-color);\n",
              "    }\n",
              "    90% {\n",
              "      border-color: transparent;\n",
              "      border-bottom-color: var(--fill-color);\n",
              "    }\n",
              "  }\n",
              "</style>\n",
              "\n",
              "  <script>\n",
              "    async function quickchart(key) {\n",
              "      const quickchartButtonEl =\n",
              "        document.querySelector('#' + key + ' button');\n",
              "      quickchartButtonEl.disabled = true;  // To prevent multiple clicks.\n",
              "      quickchartButtonEl.classList.add('colab-df-spinner');\n",
              "      try {\n",
              "        const charts = await google.colab.kernel.invokeFunction(\n",
              "            'suggestCharts', [key], {});\n",
              "      } catch (error) {\n",
              "        console.error('Error during call to suggestCharts:', error);\n",
              "      }\n",
              "      quickchartButtonEl.classList.remove('colab-df-spinner');\n",
              "      quickchartButtonEl.classList.add('colab-df-quickchart-complete');\n",
              "    }\n",
              "    (() => {\n",
              "      let quickchartButtonEl =\n",
              "        document.querySelector('#df-36d26d32-8b69-4696-bbdc-25a21c5a1d35 button');\n",
              "      quickchartButtonEl.style.display =\n",
              "        google.colab.kernel.accessAllowed ? 'block' : 'none';\n",
              "    })();\n",
              "  </script>\n",
              "</div>\n",
              "    </div>\n",
              "  </div>\n"
            ]
          },
          "metadata": {},
          "execution_count": 3
        }
      ],
      "source": [
        "employee_data.head()"
      ]
    },
    {
      "cell_type": "code",
      "execution_count": 4,
      "id": "a664f6ce",
      "metadata": {
        "colab": {
          "base_uri": "https://localhost:8080/"
        },
        "id": "a664f6ce",
        "outputId": "1af31fde-fba9-43bd-b98c-2942a8de7736"
      },
      "outputs": [
        {
          "output_type": "execute_result",
          "data": {
            "text/plain": [
              "(4653, 9)"
            ]
          },
          "metadata": {},
          "execution_count": 4
        }
      ],
      "source": [
        "employee_data.shape"
      ]
    },
    {
      "cell_type": "code",
      "execution_count": 5,
      "id": "5ab5b0ba",
      "metadata": {
        "colab": {
          "base_uri": "https://localhost:8080/"
        },
        "id": "5ab5b0ba",
        "outputId": "c1bde966-3f3f-4638-9fbf-1200476c2b16"
      },
      "outputs": [
        {
          "output_type": "stream",
          "name": "stdout",
          "text": [
            "<class 'pandas.core.frame.DataFrame'>\n",
            "RangeIndex: 4653 entries, 0 to 4652\n",
            "Data columns (total 9 columns):\n",
            " #   Column                     Non-Null Count  Dtype \n",
            "---  ------                     --------------  ----- \n",
            " 0   Education                  4653 non-null   object\n",
            " 1   JoiningYear                4653 non-null   int64 \n",
            " 2   City                       4653 non-null   object\n",
            " 3   PaymentTier                4653 non-null   int64 \n",
            " 4   Age                        4653 non-null   int64 \n",
            " 5   Gender                     4653 non-null   object\n",
            " 6   EverBenched                4653 non-null   object\n",
            " 7   ExperienceInCurrentDomain  4653 non-null   int64 \n",
            " 8   LeaveOrNot                 4653 non-null   int64 \n",
            "dtypes: int64(5), object(4)\n",
            "memory usage: 327.3+ KB\n"
          ]
        }
      ],
      "source": [
        "employee_data.info()"
      ]
    },
    {
      "cell_type": "code",
      "execution_count": 6,
      "id": "839066ff",
      "metadata": {
        "colab": {
          "base_uri": "https://localhost:8080/",
          "height": 300
        },
        "id": "839066ff",
        "outputId": "83ee9479-c4b3-4506-f7d1-2b4d55b3313a"
      },
      "outputs": [
        {
          "output_type": "execute_result",
          "data": {
            "text/plain": [
              "       JoiningYear  PaymentTier          Age  ExperienceInCurrentDomain  \\\n",
              "count  4653.000000  4653.000000  4653.000000                4653.000000   \n",
              "mean   2015.062970     2.698259    29.393295                   2.905652   \n",
              "std       1.863377     0.561435     4.826087                   1.558240   \n",
              "min    2012.000000     1.000000    22.000000                   0.000000   \n",
              "25%    2013.000000     3.000000    26.000000                   2.000000   \n",
              "50%    2015.000000     3.000000    28.000000                   3.000000   \n",
              "75%    2017.000000     3.000000    32.000000                   4.000000   \n",
              "max    2018.000000     3.000000    41.000000                   7.000000   \n",
              "\n",
              "        LeaveOrNot  \n",
              "count  4653.000000  \n",
              "mean      0.343864  \n",
              "std       0.475047  \n",
              "min       0.000000  \n",
              "25%       0.000000  \n",
              "50%       0.000000  \n",
              "75%       1.000000  \n",
              "max       1.000000  "
            ],
            "text/html": [
              "\n",
              "  <div id=\"df-c0446af9-794e-47e9-93de-8cb44bbffa26\" class=\"colab-df-container\">\n",
              "    <div>\n",
              "<style scoped>\n",
              "    .dataframe tbody tr th:only-of-type {\n",
              "        vertical-align: middle;\n",
              "    }\n",
              "\n",
              "    .dataframe tbody tr th {\n",
              "        vertical-align: top;\n",
              "    }\n",
              "\n",
              "    .dataframe thead th {\n",
              "        text-align: right;\n",
              "    }\n",
              "</style>\n",
              "<table border=\"1\" class=\"dataframe\">\n",
              "  <thead>\n",
              "    <tr style=\"text-align: right;\">\n",
              "      <th></th>\n",
              "      <th>JoiningYear</th>\n",
              "      <th>PaymentTier</th>\n",
              "      <th>Age</th>\n",
              "      <th>ExperienceInCurrentDomain</th>\n",
              "      <th>LeaveOrNot</th>\n",
              "    </tr>\n",
              "  </thead>\n",
              "  <tbody>\n",
              "    <tr>\n",
              "      <th>count</th>\n",
              "      <td>4653.000000</td>\n",
              "      <td>4653.000000</td>\n",
              "      <td>4653.000000</td>\n",
              "      <td>4653.000000</td>\n",
              "      <td>4653.000000</td>\n",
              "    </tr>\n",
              "    <tr>\n",
              "      <th>mean</th>\n",
              "      <td>2015.062970</td>\n",
              "      <td>2.698259</td>\n",
              "      <td>29.393295</td>\n",
              "      <td>2.905652</td>\n",
              "      <td>0.343864</td>\n",
              "    </tr>\n",
              "    <tr>\n",
              "      <th>std</th>\n",
              "      <td>1.863377</td>\n",
              "      <td>0.561435</td>\n",
              "      <td>4.826087</td>\n",
              "      <td>1.558240</td>\n",
              "      <td>0.475047</td>\n",
              "    </tr>\n",
              "    <tr>\n",
              "      <th>min</th>\n",
              "      <td>2012.000000</td>\n",
              "      <td>1.000000</td>\n",
              "      <td>22.000000</td>\n",
              "      <td>0.000000</td>\n",
              "      <td>0.000000</td>\n",
              "    </tr>\n",
              "    <tr>\n",
              "      <th>25%</th>\n",
              "      <td>2013.000000</td>\n",
              "      <td>3.000000</td>\n",
              "      <td>26.000000</td>\n",
              "      <td>2.000000</td>\n",
              "      <td>0.000000</td>\n",
              "    </tr>\n",
              "    <tr>\n",
              "      <th>50%</th>\n",
              "      <td>2015.000000</td>\n",
              "      <td>3.000000</td>\n",
              "      <td>28.000000</td>\n",
              "      <td>3.000000</td>\n",
              "      <td>0.000000</td>\n",
              "    </tr>\n",
              "    <tr>\n",
              "      <th>75%</th>\n",
              "      <td>2017.000000</td>\n",
              "      <td>3.000000</td>\n",
              "      <td>32.000000</td>\n",
              "      <td>4.000000</td>\n",
              "      <td>1.000000</td>\n",
              "    </tr>\n",
              "    <tr>\n",
              "      <th>max</th>\n",
              "      <td>2018.000000</td>\n",
              "      <td>3.000000</td>\n",
              "      <td>41.000000</td>\n",
              "      <td>7.000000</td>\n",
              "      <td>1.000000</td>\n",
              "    </tr>\n",
              "  </tbody>\n",
              "</table>\n",
              "</div>\n",
              "    <div class=\"colab-df-buttons\">\n",
              "\n",
              "  <div class=\"colab-df-container\">\n",
              "    <button class=\"colab-df-convert\" onclick=\"convertToInteractive('df-c0446af9-794e-47e9-93de-8cb44bbffa26')\"\n",
              "            title=\"Convert this dataframe to an interactive table.\"\n",
              "            style=\"display:none;\">\n",
              "\n",
              "  <svg xmlns=\"http://www.w3.org/2000/svg\" height=\"24px\" viewBox=\"0 -960 960 960\">\n",
              "    <path d=\"M120-120v-720h720v720H120Zm60-500h600v-160H180v160Zm220 220h160v-160H400v160Zm0 220h160v-160H400v160ZM180-400h160v-160H180v160Zm440 0h160v-160H620v160ZM180-180h160v-160H180v160Zm440 0h160v-160H620v160Z\"/>\n",
              "  </svg>\n",
              "    </button>\n",
              "\n",
              "  <style>\n",
              "    .colab-df-container {\n",
              "      display:flex;\n",
              "      gap: 12px;\n",
              "    }\n",
              "\n",
              "    .colab-df-convert {\n",
              "      background-color: #E8F0FE;\n",
              "      border: none;\n",
              "      border-radius: 50%;\n",
              "      cursor: pointer;\n",
              "      display: none;\n",
              "      fill: #1967D2;\n",
              "      height: 32px;\n",
              "      padding: 0 0 0 0;\n",
              "      width: 32px;\n",
              "    }\n",
              "\n",
              "    .colab-df-convert:hover {\n",
              "      background-color: #E2EBFA;\n",
              "      box-shadow: 0px 1px 2px rgba(60, 64, 67, 0.3), 0px 1px 3px 1px rgba(60, 64, 67, 0.15);\n",
              "      fill: #174EA6;\n",
              "    }\n",
              "\n",
              "    .colab-df-buttons div {\n",
              "      margin-bottom: 4px;\n",
              "    }\n",
              "\n",
              "    [theme=dark] .colab-df-convert {\n",
              "      background-color: #3B4455;\n",
              "      fill: #D2E3FC;\n",
              "    }\n",
              "\n",
              "    [theme=dark] .colab-df-convert:hover {\n",
              "      background-color: #434B5C;\n",
              "      box-shadow: 0px 1px 3px 1px rgba(0, 0, 0, 0.15);\n",
              "      filter: drop-shadow(0px 1px 2px rgba(0, 0, 0, 0.3));\n",
              "      fill: #FFFFFF;\n",
              "    }\n",
              "  </style>\n",
              "\n",
              "    <script>\n",
              "      const buttonEl =\n",
              "        document.querySelector('#df-c0446af9-794e-47e9-93de-8cb44bbffa26 button.colab-df-convert');\n",
              "      buttonEl.style.display =\n",
              "        google.colab.kernel.accessAllowed ? 'block' : 'none';\n",
              "\n",
              "      async function convertToInteractive(key) {\n",
              "        const element = document.querySelector('#df-c0446af9-794e-47e9-93de-8cb44bbffa26');\n",
              "        const dataTable =\n",
              "          await google.colab.kernel.invokeFunction('convertToInteractive',\n",
              "                                                    [key], {});\n",
              "        if (!dataTable) return;\n",
              "\n",
              "        const docLinkHtml = 'Like what you see? Visit the ' +\n",
              "          '<a target=\"_blank\" href=https://colab.research.google.com/notebooks/data_table.ipynb>data table notebook</a>'\n",
              "          + ' to learn more about interactive tables.';\n",
              "        element.innerHTML = '';\n",
              "        dataTable['output_type'] = 'display_data';\n",
              "        await google.colab.output.renderOutput(dataTable, element);\n",
              "        const docLink = document.createElement('div');\n",
              "        docLink.innerHTML = docLinkHtml;\n",
              "        element.appendChild(docLink);\n",
              "      }\n",
              "    </script>\n",
              "  </div>\n",
              "\n",
              "\n",
              "<div id=\"df-bcb73e2b-520b-4ec5-a427-7af68d9c4bc8\">\n",
              "  <button class=\"colab-df-quickchart\" onclick=\"quickchart('df-bcb73e2b-520b-4ec5-a427-7af68d9c4bc8')\"\n",
              "            title=\"Suggest charts\"\n",
              "            style=\"display:none;\">\n",
              "\n",
              "<svg xmlns=\"http://www.w3.org/2000/svg\" height=\"24px\"viewBox=\"0 0 24 24\"\n",
              "     width=\"24px\">\n",
              "    <g>\n",
              "        <path d=\"M19 3H5c-1.1 0-2 .9-2 2v14c0 1.1.9 2 2 2h14c1.1 0 2-.9 2-2V5c0-1.1-.9-2-2-2zM9 17H7v-7h2v7zm4 0h-2V7h2v10zm4 0h-2v-4h2v4z\"/>\n",
              "    </g>\n",
              "</svg>\n",
              "  </button>\n",
              "\n",
              "<style>\n",
              "  .colab-df-quickchart {\n",
              "      --bg-color: #E8F0FE;\n",
              "      --fill-color: #1967D2;\n",
              "      --hover-bg-color: #E2EBFA;\n",
              "      --hover-fill-color: #174EA6;\n",
              "      --disabled-fill-color: #AAA;\n",
              "      --disabled-bg-color: #DDD;\n",
              "  }\n",
              "\n",
              "  [theme=dark] .colab-df-quickchart {\n",
              "      --bg-color: #3B4455;\n",
              "      --fill-color: #D2E3FC;\n",
              "      --hover-bg-color: #434B5C;\n",
              "      --hover-fill-color: #FFFFFF;\n",
              "      --disabled-bg-color: #3B4455;\n",
              "      --disabled-fill-color: #666;\n",
              "  }\n",
              "\n",
              "  .colab-df-quickchart {\n",
              "    background-color: var(--bg-color);\n",
              "    border: none;\n",
              "    border-radius: 50%;\n",
              "    cursor: pointer;\n",
              "    display: none;\n",
              "    fill: var(--fill-color);\n",
              "    height: 32px;\n",
              "    padding: 0;\n",
              "    width: 32px;\n",
              "  }\n",
              "\n",
              "  .colab-df-quickchart:hover {\n",
              "    background-color: var(--hover-bg-color);\n",
              "    box-shadow: 0 1px 2px rgba(60, 64, 67, 0.3), 0 1px 3px 1px rgba(60, 64, 67, 0.15);\n",
              "    fill: var(--button-hover-fill-color);\n",
              "  }\n",
              "\n",
              "  .colab-df-quickchart-complete:disabled,\n",
              "  .colab-df-quickchart-complete:disabled:hover {\n",
              "    background-color: var(--disabled-bg-color);\n",
              "    fill: var(--disabled-fill-color);\n",
              "    box-shadow: none;\n",
              "  }\n",
              "\n",
              "  .colab-df-spinner {\n",
              "    border: 2px solid var(--fill-color);\n",
              "    border-color: transparent;\n",
              "    border-bottom-color: var(--fill-color);\n",
              "    animation:\n",
              "      spin 1s steps(1) infinite;\n",
              "  }\n",
              "\n",
              "  @keyframes spin {\n",
              "    0% {\n",
              "      border-color: transparent;\n",
              "      border-bottom-color: var(--fill-color);\n",
              "      border-left-color: var(--fill-color);\n",
              "    }\n",
              "    20% {\n",
              "      border-color: transparent;\n",
              "      border-left-color: var(--fill-color);\n",
              "      border-top-color: var(--fill-color);\n",
              "    }\n",
              "    30% {\n",
              "      border-color: transparent;\n",
              "      border-left-color: var(--fill-color);\n",
              "      border-top-color: var(--fill-color);\n",
              "      border-right-color: var(--fill-color);\n",
              "    }\n",
              "    40% {\n",
              "      border-color: transparent;\n",
              "      border-right-color: var(--fill-color);\n",
              "      border-top-color: var(--fill-color);\n",
              "    }\n",
              "    60% {\n",
              "      border-color: transparent;\n",
              "      border-right-color: var(--fill-color);\n",
              "    }\n",
              "    80% {\n",
              "      border-color: transparent;\n",
              "      border-right-color: var(--fill-color);\n",
              "      border-bottom-color: var(--fill-color);\n",
              "    }\n",
              "    90% {\n",
              "      border-color: transparent;\n",
              "      border-bottom-color: var(--fill-color);\n",
              "    }\n",
              "  }\n",
              "</style>\n",
              "\n",
              "  <script>\n",
              "    async function quickchart(key) {\n",
              "      const quickchartButtonEl =\n",
              "        document.querySelector('#' + key + ' button');\n",
              "      quickchartButtonEl.disabled = true;  // To prevent multiple clicks.\n",
              "      quickchartButtonEl.classList.add('colab-df-spinner');\n",
              "      try {\n",
              "        const charts = await google.colab.kernel.invokeFunction(\n",
              "            'suggestCharts', [key], {});\n",
              "      } catch (error) {\n",
              "        console.error('Error during call to suggestCharts:', error);\n",
              "      }\n",
              "      quickchartButtonEl.classList.remove('colab-df-spinner');\n",
              "      quickchartButtonEl.classList.add('colab-df-quickchart-complete');\n",
              "    }\n",
              "    (() => {\n",
              "      let quickchartButtonEl =\n",
              "        document.querySelector('#df-bcb73e2b-520b-4ec5-a427-7af68d9c4bc8 button');\n",
              "      quickchartButtonEl.style.display =\n",
              "        google.colab.kernel.accessAllowed ? 'block' : 'none';\n",
              "    })();\n",
              "  </script>\n",
              "</div>\n",
              "    </div>\n",
              "  </div>\n"
            ]
          },
          "metadata": {},
          "execution_count": 6
        }
      ],
      "source": [
        "employee_data.describe()"
      ]
    },
    {
      "cell_type": "code",
      "execution_count": 7,
      "id": "653ef2d2",
      "metadata": {
        "colab": {
          "base_uri": "https://localhost:8080/"
        },
        "id": "653ef2d2",
        "outputId": "a66589ff-dbae-460e-9a74-107827964d54"
      },
      "outputs": [
        {
          "output_type": "execute_result",
          "data": {
            "text/plain": [
              "Education                    0\n",
              "JoiningYear                  0\n",
              "City                         0\n",
              "PaymentTier                  0\n",
              "Age                          0\n",
              "Gender                       0\n",
              "EverBenched                  0\n",
              "ExperienceInCurrentDomain    0\n",
              "LeaveOrNot                   0\n",
              "dtype: int64"
            ]
          },
          "metadata": {},
          "execution_count": 7
        }
      ],
      "source": [
        "employee_data.isnull().sum()"
      ]
    },
    {
      "cell_type": "markdown",
      "id": "eb4331ff",
      "metadata": {
        "id": "eb4331ff"
      },
      "source": [
        "# 1.2 Label Encoding"
      ]
    },
    {
      "cell_type": "code",
      "execution_count": 8,
      "id": "e58f6048",
      "metadata": {
        "id": "e58f6048"
      },
      "outputs": [],
      "source": [
        "from sklearn.preprocessing import LabelEncoder\n",
        "label_encoder = LabelEncoder()"
      ]
    },
    {
      "cell_type": "markdown",
      "source": [
        "각 범주형 열에 레이블 인코딩을 적용\n",
        "\n",
        "레이블 인코딩은 범주형 데이터 -> 카테고리에 고유한 정수 값을 할당수치 표현"
      ],
      "metadata": {
        "id": "ZH2BG9pdwS3x"
      },
      "id": "ZH2BG9pdwS3x"
    },
    {
      "cell_type": "code",
      "execution_count": 9,
      "id": "1c5e4153",
      "metadata": {
        "colab": {
          "base_uri": "https://localhost:8080/",
          "height": 443
        },
        "id": "1c5e4153",
        "outputId": "e29cc08a-b511-4e75-abf1-11b9777042bb"
      },
      "outputs": [
        {
          "output_type": "execute_result",
          "data": {
            "text/plain": [
              "      Education  JoiningYear  City  PaymentTier  Age  Gender  EverBenched  \\\n",
              "0             0         2017     0            3   34       1            0   \n",
              "1             0         2013     2            1   28       0            0   \n",
              "2             0         2014     1            3   38       0            0   \n",
              "3             1         2016     0            3   27       1            0   \n",
              "4             1         2017     2            3   24       1            1   \n",
              "...         ...          ...   ...          ...  ...     ...          ...   \n",
              "4648          0         2013     0            3   26       0            0   \n",
              "4649          1         2013     2            2   37       1            0   \n",
              "4650          1         2018     1            3   27       1            0   \n",
              "4651          0         2012     0            3   30       1            1   \n",
              "4652          0         2015     0            3   33       1            1   \n",
              "\n",
              "      ExperienceInCurrentDomain  LeaveOrNot  \n",
              "0                             0           0  \n",
              "1                             3           1  \n",
              "2                             2           0  \n",
              "3                             5           1  \n",
              "4                             2           1  \n",
              "...                         ...         ...  \n",
              "4648                          4           0  \n",
              "4649                          2           1  \n",
              "4650                          5           1  \n",
              "4651                          2           0  \n",
              "4652                          4           0  \n",
              "\n",
              "[4653 rows x 9 columns]"
            ],
            "text/html": [
              "\n",
              "  <div id=\"df-1ec09769-8894-4e54-84e0-278d4a370160\" class=\"colab-df-container\">\n",
              "    <div>\n",
              "<style scoped>\n",
              "    .dataframe tbody tr th:only-of-type {\n",
              "        vertical-align: middle;\n",
              "    }\n",
              "\n",
              "    .dataframe tbody tr th {\n",
              "        vertical-align: top;\n",
              "    }\n",
              "\n",
              "    .dataframe thead th {\n",
              "        text-align: right;\n",
              "    }\n",
              "</style>\n",
              "<table border=\"1\" class=\"dataframe\">\n",
              "  <thead>\n",
              "    <tr style=\"text-align: right;\">\n",
              "      <th></th>\n",
              "      <th>Education</th>\n",
              "      <th>JoiningYear</th>\n",
              "      <th>City</th>\n",
              "      <th>PaymentTier</th>\n",
              "      <th>Age</th>\n",
              "      <th>Gender</th>\n",
              "      <th>EverBenched</th>\n",
              "      <th>ExperienceInCurrentDomain</th>\n",
              "      <th>LeaveOrNot</th>\n",
              "    </tr>\n",
              "  </thead>\n",
              "  <tbody>\n",
              "    <tr>\n",
              "      <th>0</th>\n",
              "      <td>0</td>\n",
              "      <td>2017</td>\n",
              "      <td>0</td>\n",
              "      <td>3</td>\n",
              "      <td>34</td>\n",
              "      <td>1</td>\n",
              "      <td>0</td>\n",
              "      <td>0</td>\n",
              "      <td>0</td>\n",
              "    </tr>\n",
              "    <tr>\n",
              "      <th>1</th>\n",
              "      <td>0</td>\n",
              "      <td>2013</td>\n",
              "      <td>2</td>\n",
              "      <td>1</td>\n",
              "      <td>28</td>\n",
              "      <td>0</td>\n",
              "      <td>0</td>\n",
              "      <td>3</td>\n",
              "      <td>1</td>\n",
              "    </tr>\n",
              "    <tr>\n",
              "      <th>2</th>\n",
              "      <td>0</td>\n",
              "      <td>2014</td>\n",
              "      <td>1</td>\n",
              "      <td>3</td>\n",
              "      <td>38</td>\n",
              "      <td>0</td>\n",
              "      <td>0</td>\n",
              "      <td>2</td>\n",
              "      <td>0</td>\n",
              "    </tr>\n",
              "    <tr>\n",
              "      <th>3</th>\n",
              "      <td>1</td>\n",
              "      <td>2016</td>\n",
              "      <td>0</td>\n",
              "      <td>3</td>\n",
              "      <td>27</td>\n",
              "      <td>1</td>\n",
              "      <td>0</td>\n",
              "      <td>5</td>\n",
              "      <td>1</td>\n",
              "    </tr>\n",
              "    <tr>\n",
              "      <th>4</th>\n",
              "      <td>1</td>\n",
              "      <td>2017</td>\n",
              "      <td>2</td>\n",
              "      <td>3</td>\n",
              "      <td>24</td>\n",
              "      <td>1</td>\n",
              "      <td>1</td>\n",
              "      <td>2</td>\n",
              "      <td>1</td>\n",
              "    </tr>\n",
              "    <tr>\n",
              "      <th>...</th>\n",
              "      <td>...</td>\n",
              "      <td>...</td>\n",
              "      <td>...</td>\n",
              "      <td>...</td>\n",
              "      <td>...</td>\n",
              "      <td>...</td>\n",
              "      <td>...</td>\n",
              "      <td>...</td>\n",
              "      <td>...</td>\n",
              "    </tr>\n",
              "    <tr>\n",
              "      <th>4648</th>\n",
              "      <td>0</td>\n",
              "      <td>2013</td>\n",
              "      <td>0</td>\n",
              "      <td>3</td>\n",
              "      <td>26</td>\n",
              "      <td>0</td>\n",
              "      <td>0</td>\n",
              "      <td>4</td>\n",
              "      <td>0</td>\n",
              "    </tr>\n",
              "    <tr>\n",
              "      <th>4649</th>\n",
              "      <td>1</td>\n",
              "      <td>2013</td>\n",
              "      <td>2</td>\n",
              "      <td>2</td>\n",
              "      <td>37</td>\n",
              "      <td>1</td>\n",
              "      <td>0</td>\n",
              "      <td>2</td>\n",
              "      <td>1</td>\n",
              "    </tr>\n",
              "    <tr>\n",
              "      <th>4650</th>\n",
              "      <td>1</td>\n",
              "      <td>2018</td>\n",
              "      <td>1</td>\n",
              "      <td>3</td>\n",
              "      <td>27</td>\n",
              "      <td>1</td>\n",
              "      <td>0</td>\n",
              "      <td>5</td>\n",
              "      <td>1</td>\n",
              "    </tr>\n",
              "    <tr>\n",
              "      <th>4651</th>\n",
              "      <td>0</td>\n",
              "      <td>2012</td>\n",
              "      <td>0</td>\n",
              "      <td>3</td>\n",
              "      <td>30</td>\n",
              "      <td>1</td>\n",
              "      <td>1</td>\n",
              "      <td>2</td>\n",
              "      <td>0</td>\n",
              "    </tr>\n",
              "    <tr>\n",
              "      <th>4652</th>\n",
              "      <td>0</td>\n",
              "      <td>2015</td>\n",
              "      <td>0</td>\n",
              "      <td>3</td>\n",
              "      <td>33</td>\n",
              "      <td>1</td>\n",
              "      <td>1</td>\n",
              "      <td>4</td>\n",
              "      <td>0</td>\n",
              "    </tr>\n",
              "  </tbody>\n",
              "</table>\n",
              "<p>4653 rows × 9 columns</p>\n",
              "</div>\n",
              "    <div class=\"colab-df-buttons\">\n",
              "\n",
              "  <div class=\"colab-df-container\">\n",
              "    <button class=\"colab-df-convert\" onclick=\"convertToInteractive('df-1ec09769-8894-4e54-84e0-278d4a370160')\"\n",
              "            title=\"Convert this dataframe to an interactive table.\"\n",
              "            style=\"display:none;\">\n",
              "\n",
              "  <svg xmlns=\"http://www.w3.org/2000/svg\" height=\"24px\" viewBox=\"0 -960 960 960\">\n",
              "    <path d=\"M120-120v-720h720v720H120Zm60-500h600v-160H180v160Zm220 220h160v-160H400v160Zm0 220h160v-160H400v160ZM180-400h160v-160H180v160Zm440 0h160v-160H620v160ZM180-180h160v-160H180v160Zm440 0h160v-160H620v160Z\"/>\n",
              "  </svg>\n",
              "    </button>\n",
              "\n",
              "  <style>\n",
              "    .colab-df-container {\n",
              "      display:flex;\n",
              "      gap: 12px;\n",
              "    }\n",
              "\n",
              "    .colab-df-convert {\n",
              "      background-color: #E8F0FE;\n",
              "      border: none;\n",
              "      border-radius: 50%;\n",
              "      cursor: pointer;\n",
              "      display: none;\n",
              "      fill: #1967D2;\n",
              "      height: 32px;\n",
              "      padding: 0 0 0 0;\n",
              "      width: 32px;\n",
              "    }\n",
              "\n",
              "    .colab-df-convert:hover {\n",
              "      background-color: #E2EBFA;\n",
              "      box-shadow: 0px 1px 2px rgba(60, 64, 67, 0.3), 0px 1px 3px 1px rgba(60, 64, 67, 0.15);\n",
              "      fill: #174EA6;\n",
              "    }\n",
              "\n",
              "    .colab-df-buttons div {\n",
              "      margin-bottom: 4px;\n",
              "    }\n",
              "\n",
              "    [theme=dark] .colab-df-convert {\n",
              "      background-color: #3B4455;\n",
              "      fill: #D2E3FC;\n",
              "    }\n",
              "\n",
              "    [theme=dark] .colab-df-convert:hover {\n",
              "      background-color: #434B5C;\n",
              "      box-shadow: 0px 1px 3px 1px rgba(0, 0, 0, 0.15);\n",
              "      filter: drop-shadow(0px 1px 2px rgba(0, 0, 0, 0.3));\n",
              "      fill: #FFFFFF;\n",
              "    }\n",
              "  </style>\n",
              "\n",
              "    <script>\n",
              "      const buttonEl =\n",
              "        document.querySelector('#df-1ec09769-8894-4e54-84e0-278d4a370160 button.colab-df-convert');\n",
              "      buttonEl.style.display =\n",
              "        google.colab.kernel.accessAllowed ? 'block' : 'none';\n",
              "\n",
              "      async function convertToInteractive(key) {\n",
              "        const element = document.querySelector('#df-1ec09769-8894-4e54-84e0-278d4a370160');\n",
              "        const dataTable =\n",
              "          await google.colab.kernel.invokeFunction('convertToInteractive',\n",
              "                                                    [key], {});\n",
              "        if (!dataTable) return;\n",
              "\n",
              "        const docLinkHtml = 'Like what you see? Visit the ' +\n",
              "          '<a target=\"_blank\" href=https://colab.research.google.com/notebooks/data_table.ipynb>data table notebook</a>'\n",
              "          + ' to learn more about interactive tables.';\n",
              "        element.innerHTML = '';\n",
              "        dataTable['output_type'] = 'display_data';\n",
              "        await google.colab.output.renderOutput(dataTable, element);\n",
              "        const docLink = document.createElement('div');\n",
              "        docLink.innerHTML = docLinkHtml;\n",
              "        element.appendChild(docLink);\n",
              "      }\n",
              "    </script>\n",
              "  </div>\n",
              "\n",
              "\n",
              "<div id=\"df-10aa0514-011f-4584-a8ec-10dfa764499a\">\n",
              "  <button class=\"colab-df-quickchart\" onclick=\"quickchart('df-10aa0514-011f-4584-a8ec-10dfa764499a')\"\n",
              "            title=\"Suggest charts\"\n",
              "            style=\"display:none;\">\n",
              "\n",
              "<svg xmlns=\"http://www.w3.org/2000/svg\" height=\"24px\"viewBox=\"0 0 24 24\"\n",
              "     width=\"24px\">\n",
              "    <g>\n",
              "        <path d=\"M19 3H5c-1.1 0-2 .9-2 2v14c0 1.1.9 2 2 2h14c1.1 0 2-.9 2-2V5c0-1.1-.9-2-2-2zM9 17H7v-7h2v7zm4 0h-2V7h2v10zm4 0h-2v-4h2v4z\"/>\n",
              "    </g>\n",
              "</svg>\n",
              "  </button>\n",
              "\n",
              "<style>\n",
              "  .colab-df-quickchart {\n",
              "      --bg-color: #E8F0FE;\n",
              "      --fill-color: #1967D2;\n",
              "      --hover-bg-color: #E2EBFA;\n",
              "      --hover-fill-color: #174EA6;\n",
              "      --disabled-fill-color: #AAA;\n",
              "      --disabled-bg-color: #DDD;\n",
              "  }\n",
              "\n",
              "  [theme=dark] .colab-df-quickchart {\n",
              "      --bg-color: #3B4455;\n",
              "      --fill-color: #D2E3FC;\n",
              "      --hover-bg-color: #434B5C;\n",
              "      --hover-fill-color: #FFFFFF;\n",
              "      --disabled-bg-color: #3B4455;\n",
              "      --disabled-fill-color: #666;\n",
              "  }\n",
              "\n",
              "  .colab-df-quickchart {\n",
              "    background-color: var(--bg-color);\n",
              "    border: none;\n",
              "    border-radius: 50%;\n",
              "    cursor: pointer;\n",
              "    display: none;\n",
              "    fill: var(--fill-color);\n",
              "    height: 32px;\n",
              "    padding: 0;\n",
              "    width: 32px;\n",
              "  }\n",
              "\n",
              "  .colab-df-quickchart:hover {\n",
              "    background-color: var(--hover-bg-color);\n",
              "    box-shadow: 0 1px 2px rgba(60, 64, 67, 0.3), 0 1px 3px 1px rgba(60, 64, 67, 0.15);\n",
              "    fill: var(--button-hover-fill-color);\n",
              "  }\n",
              "\n",
              "  .colab-df-quickchart-complete:disabled,\n",
              "  .colab-df-quickchart-complete:disabled:hover {\n",
              "    background-color: var(--disabled-bg-color);\n",
              "    fill: var(--disabled-fill-color);\n",
              "    box-shadow: none;\n",
              "  }\n",
              "\n",
              "  .colab-df-spinner {\n",
              "    border: 2px solid var(--fill-color);\n",
              "    border-color: transparent;\n",
              "    border-bottom-color: var(--fill-color);\n",
              "    animation:\n",
              "      spin 1s steps(1) infinite;\n",
              "  }\n",
              "\n",
              "  @keyframes spin {\n",
              "    0% {\n",
              "      border-color: transparent;\n",
              "      border-bottom-color: var(--fill-color);\n",
              "      border-left-color: var(--fill-color);\n",
              "    }\n",
              "    20% {\n",
              "      border-color: transparent;\n",
              "      border-left-color: var(--fill-color);\n",
              "      border-top-color: var(--fill-color);\n",
              "    }\n",
              "    30% {\n",
              "      border-color: transparent;\n",
              "      border-left-color: var(--fill-color);\n",
              "      border-top-color: var(--fill-color);\n",
              "      border-right-color: var(--fill-color);\n",
              "    }\n",
              "    40% {\n",
              "      border-color: transparent;\n",
              "      border-right-color: var(--fill-color);\n",
              "      border-top-color: var(--fill-color);\n",
              "    }\n",
              "    60% {\n",
              "      border-color: transparent;\n",
              "      border-right-color: var(--fill-color);\n",
              "    }\n",
              "    80% {\n",
              "      border-color: transparent;\n",
              "      border-right-color: var(--fill-color);\n",
              "      border-bottom-color: var(--fill-color);\n",
              "    }\n",
              "    90% {\n",
              "      border-color: transparent;\n",
              "      border-bottom-color: var(--fill-color);\n",
              "    }\n",
              "  }\n",
              "</style>\n",
              "\n",
              "  <script>\n",
              "    async function quickchart(key) {\n",
              "      const quickchartButtonEl =\n",
              "        document.querySelector('#' + key + ' button');\n",
              "      quickchartButtonEl.disabled = true;  // To prevent multiple clicks.\n",
              "      quickchartButtonEl.classList.add('colab-df-spinner');\n",
              "      try {\n",
              "        const charts = await google.colab.kernel.invokeFunction(\n",
              "            'suggestCharts', [key], {});\n",
              "      } catch (error) {\n",
              "        console.error('Error during call to suggestCharts:', error);\n",
              "      }\n",
              "      quickchartButtonEl.classList.remove('colab-df-spinner');\n",
              "      quickchartButtonEl.classList.add('colab-df-quickchart-complete');\n",
              "    }\n",
              "    (() => {\n",
              "      let quickchartButtonEl =\n",
              "        document.querySelector('#df-10aa0514-011f-4584-a8ec-10dfa764499a button');\n",
              "      quickchartButtonEl.style.display =\n",
              "        google.colab.kernel.accessAllowed ? 'block' : 'none';\n",
              "    })();\n",
              "  </script>\n",
              "</div>\n",
              "    </div>\n",
              "  </div>\n"
            ]
          },
          "metadata": {},
          "execution_count": 9
        }
      ],
      "source": [
        "categorical_columns = ['Gender', 'EverBenched', 'Education', 'City']\n",
        "#Apply label encoding to each categorical column\n",
        "for column in categorical_columns:\n",
        "    employee_data[column] = label_encoder.fit_transform(employee_data[column])\n",
        "employee_data"
      ]
    },
    {
      "cell_type": "markdown",
      "id": "0e07bfad",
      "metadata": {
        "id": "0e07bfad"
      },
      "source": [
        "# 1.3 Define Features and the Target Variable"
      ]
    },
    {
      "cell_type": "code",
      "execution_count": 10,
      "id": "49d4bfcb",
      "metadata": {
        "id": "49d4bfcb"
      },
      "outputs": [],
      "source": [
        "X = employee_data.drop('LeaveOrNot',axis = 1)\n",
        "y = employee_data['LeaveOrNot']"
      ]
    },
    {
      "cell_type": "markdown",
      "id": "feef2ad6",
      "metadata": {
        "id": "feef2ad6"
      },
      "source": [
        "# 1.4 Data visualization"
      ]
    },
    {
      "cell_type": "code",
      "execution_count": 11,
      "id": "636505ff",
      "metadata": {
        "colab": {
          "base_uri": "https://localhost:8080/",
          "height": 588
        },
        "id": "636505ff",
        "outputId": "fa34005e-9fe2-4f6f-b3ee-18c9e819183a"
      },
      "outputs": [
        {
          "output_type": "execute_result",
          "data": {
            "text/plain": [
              "Text(0, 0.5, 'Count')"
            ]
          },
          "metadata": {},
          "execution_count": 11
        },
        {
          "output_type": "display_data",
          "data": {
            "text/plain": [
              "<Figure size 800x600 with 1 Axes>"
            ],
            "image/png": "[encoded data removed]"
          },
          "metadata": {}
        }
      ],
      "source": [
        "plt.figure(figsize=(8,6))\n",
        "\n",
        "sns.histplot(employee_data['Age'],kde = True)\n",
        "\n",
        "plt.title(\"Age Distribution\", fontsize = 15)\n",
        "plt.xlabel(\"Age\",fontsize = 12)\n",
        "plt.ylabel(\"Count\", fontsize = 12)"
      ]
    },
    {
      "cell_type": "code",
      "execution_count": 12,
      "id": "f4446342",
      "metadata": {
        "colab": {
          "base_uri": "https://localhost:8080/",
          "height": 564
        },
        "id": "f4446342",
        "outputId": "be53445d-d1b6-49a7-e7f5-fc8a45148f94"
      },
      "outputs": [
        {
          "output_type": "display_data",
          "data": {
            "text/plain": [
              "<Figure size 800x600 with 1 Axes>"
            ],
            "image/png": "[encoded data removed]"
          },
          "metadata": {}
        }
      ],
      "source": [
        "plt.figure(figsize=(8,6))\n",
        "\n",
        "sns.countplot(data=employee_data, x='Gender', hue = 'Gender')\n",
        "\n",
        "plt.title(\"Gender Distribution\")\n",
        "plt.xlabel(\"Gender\")\n",
        "plt.ylabel(\"Count\")\n",
        "\n",
        "plt.show()"
      ]
    },
    {
      "cell_type": "markdown",
      "source": [
        "남성(1)이 여성(0) 보다 조금 더 많음"
      ],
      "metadata": {
        "id": "6brUnsh3oUG4"
      },
      "id": "6brUnsh3oUG4"
    },
    {
      "cell_type": "code",
      "execution_count": 13,
      "id": "83122760",
      "metadata": {
        "colab": {
          "base_uri": "https://localhost:8080/",
          "height": 564
        },
        "id": "83122760",
        "outputId": "15728c6e-528f-453a-a11e-50bde95af38e"
      },
      "outputs": [
        {
          "output_type": "display_data",
          "data": {
            "text/plain": [
              "<Figure size 800x600 with 1 Axes>"
            ],
            "image/png": "[encoded data removed]"
          },
          "metadata": {}
        }
      ],
      "source": [
        "plt.figure(figsize=(8,6))\n",
        "\n",
        "palette = {1: 'blue', 2: 'green', 3: 'red'}\n",
        "sns.barplot(data=employee_data, x='PaymentTier', y='Age', hue='PaymentTier', palette=palette, errorbar=None)\n",
        "\n",
        "plt.title(\"Average Age by Payment Tier\")\n",
        "plt.xlabel(\"Payment Tier\")\n",
        "plt.ylabel(\"Average Age\")\n",
        "\n",
        "plt.show()"
      ]
    },
    {
      "cell_type": "markdown",
      "source": [
        "나이와 급여는 큰 상관관계가 없음"
      ],
      "metadata": {
        "id": "dhQa7Iydnx5a"
      },
      "id": "dhQa7Iydnx5a"
    },
    {
      "cell_type": "code",
      "source": [
        "sns.countplot(x=\"Education\", hue=\"LeaveOrNot\", data=employee_data)\n",
        "plt.xlabel('Education level')\n",
        "plt.ylabel('Frequency')\n",
        "plt.title('Effect of Education Level')\n",
        "plt.show()"
      ],
      "metadata": {
        "colab": {
          "base_uri": "https://localhost:8080/",
          "height": 472
        },
        "id": "h_qNqcpUxrZK",
        "outputId": "f4d615a0-a33b-466d-c61c-6737a206c693"
      },
      "id": "h_qNqcpUxrZK",
      "execution_count": 14,
      "outputs": [
        {
          "output_type": "display_data",
          "data": {
            "text/plain": [
              "<Figure size 640x480 with 1 Axes>"
            ],
            "image/png": "[encoded data removed]"
          },
          "metadata": {}
        }
      ]
    },
    {
      "cell_type": "markdown",
      "source": [
        "학력(학사, 석사, 박사)과 퇴사 비교\n",
        "\n",
        "-> 석사의 퇴사 비율이 높음"
      ],
      "metadata": {
        "id": "1ztRQiSryZT4"
      },
      "id": "1ztRQiSryZT4"
    },
    {
      "cell_type": "code",
      "source": [
        "data_corr = employee_data.drop([\"City\",\"Gender\",\"EverBenched\"],axis=1).corr()\n",
        "sns.heatmap(data_corr, annot=True, cmap='coolwarm', vmin=-1, vmax=1)\n",
        "plt.xlabel('Variables')\n",
        "plt.ylabel('Variables')\n",
        "plt.title('Correlation Matrix Heatmap')"
      ],
      "metadata": {
        "colab": {
          "base_uri": "https://localhost:8080/",
          "height": 672
        },
        "id": "isgxvb3zyvvc",
        "outputId": "a4cf5df7-abc6-4672-eb2c-fc4b97c01c2f"
      },
      "id": "isgxvb3zyvvc",
      "execution_count": 15,
      "outputs": [
        {
          "output_type": "execute_result",
          "data": {
            "text/plain": [
              "Text(0.5, 1.0, 'Correlation Matrix Heatmap')"
            ]
          },
          "metadata": {},
          "execution_count": 15
        },
        {
          "output_type": "display_data",
          "data": {
            "text/plain": [
              "<Figure size 640x480 with 2 Axes>"
            ],
            "image/png": "[encoded data removed]"
          },
          "metadata": {}
        }
      ]
    },
    {
      "cell_type": "markdown",
      "source": [
        "입사년도와 퇴사와의 상관관계가 0.18로 제일 높음\n",
        "\n",
        "-> 즉 최근에 입사한, 근속년수가 짧은 직원의 퇴사률이 높음"
      ],
      "metadata": {
        "id": "hj49hZ_EzJ5O"
      },
      "id": "hj49hZ_EzJ5O"
    },
    {
      "cell_type": "markdown",
      "id": "f69d6037",
      "metadata": {
        "id": "f69d6037"
      },
      "source": [
        "# 1.5 Data spliting"
      ]
    },
    {
      "cell_type": "code",
      "execution_count": 16,
      "id": "e76a95a9",
      "metadata": {
        "id": "e76a95a9"
      },
      "outputs": [],
      "source": [
        "from sklearn.model_selection import train_test_split"
      ]
    },
    {
      "cell_type": "code",
      "execution_count": 17,
      "id": "c125b36f",
      "metadata": {
        "id": "c125b36f"
      },
      "outputs": [],
      "source": [
        "# 80% taain data, 20% test data로 나눔\n",
        "X_train, X_test,y_train, y_test = train_test_split(X, y, test_size = 0.2, random_state = 42)"
      ]
    },
    {
      "cell_type": "code",
      "source": [
        "X_train.shape, y_train.shape , X_test.shape , y_test.shape"
      ],
      "metadata": {
        "colab": {
          "base_uri": "https://localhost:8080/"
        },
        "id": "LRRFXCENoogU",
        "outputId": "1d12e12c-93cb-41e0-d82c-5e730a7a0ae6"
      },
      "id": "LRRFXCENoogU",
      "execution_count": 18,
      "outputs": [
        {
          "output_type": "execute_result",
          "data": {
            "text/plain": [
              "((3722, 8), (3722,), (931, 8), (931,))"
            ]
          },
          "metadata": {},
          "execution_count": 18
        }
      ]
    },
    {
      "cell_type": "markdown",
      "id": "f32045a8",
      "metadata": {
        "id": "f32045a8"
      },
      "source": [
        "# 2. Model Construction"
      ]
    },
    {
      "cell_type": "markdown",
      "id": "c8667b58",
      "metadata": {
        "id": "c8667b58"
      },
      "source": [
        "# 2.1 Set Models"
      ]
    },
    {
      "cell_type": "code",
      "execution_count": 19,
      "id": "a91d7b51",
      "metadata": {
        "id": "a91d7b51"
      },
      "outputs": [],
      "source": [
        "from sklearn.linear_model import LogisticRegression\n",
        "model_lr = LogisticRegression(fit_intercept = True, solver='liblinear',random_state=0)"
      ]
    },
    {
      "cell_type": "code",
      "execution_count": 20,
      "id": "dfcc87a6",
      "metadata": {
        "id": "dfcc87a6"
      },
      "outputs": [],
      "source": [
        "from sklearn.tree import DecisionTreeClassifier\n",
        "\n",
        "#Construct the decision tree model\n",
        "model_dt = DecisionTreeClassifier(criterion='gini',splitter='best',\n",
        "                                             max_depth = 10, random_state = 0)"
      ]
    },
    {
      "cell_type": "code",
      "execution_count": 21,
      "id": "d0f43bc0",
      "metadata": {
        "id": "d0f43bc0"
      },
      "outputs": [],
      "source": [
        "models = [model_lr, model_dt]"
      ]
    },
    {
      "cell_type": "markdown",
      "id": "3608db85",
      "metadata": {
        "id": "3608db85"
      },
      "source": [
        "# 2.2 Model Training"
      ]
    },
    {
      "cell_type": "code",
      "execution_count": 22,
      "id": "646e2161",
      "metadata": {
        "colab": {
          "base_uri": "https://localhost:8080/"
        },
        "id": "646e2161",
        "outputId": "ead3e75f-3165-4854-a87f-d988aeb7d7ff"
      },
      "outputs": [
        {
          "output_type": "stream",
          "name": "stdout",
          "text": [
            "LogisticRegression(random_state=0, solver='liblinear') 0.7114454594304137\n",
            "DecisionTreeClassifier(max_depth=10, random_state=0) 0.8855454056958625\n"
          ]
        }
      ],
      "source": [
        "from sklearn.metrics import accuracy_score\n",
        "for model in models:\n",
        "    model.fit(X_train, y_train)\n",
        "    pre = model.predict(X_train)\n",
        "\n",
        "    acc = accuracy_score(pre, y_train)\n",
        "\n",
        "    print(model, acc)"
      ]
    },
    {
      "cell_type": "code",
      "execution_count": 23,
      "id": "8a3152d5",
      "metadata": {
        "id": "8a3152d5"
      },
      "outputs": [],
      "source": [
        "#Choose the model\n",
        "model = model_dt"
      ]
    },
    {
      "cell_type": "markdown",
      "id": "355a23b8",
      "metadata": {
        "id": "355a23b8"
      },
      "source": [
        "# 3. Performance"
      ]
    },
    {
      "cell_type": "code",
      "execution_count": 24,
      "id": "baa17290",
      "metadata": {
        "colab": {
          "base_uri": "https://localhost:8080/"
        },
        "id": "baa17290",
        "outputId": "157de304-288e-48f4-ff00-86d897fcaaba"
      },
      "outputs": [
        {
          "output_type": "stream",
          "name": "stdout",
          "text": [
            "Test Accuracy: 0.8603651987110634\n"
          ]
        }
      ],
      "source": [
        "from sklearn.metrics import accuracy_score\n",
        "pre = model.predict(X_test)\n",
        "acc = accuracy_score(y_test, pre)\n",
        "print(\"Test Accuracy:\", acc)"
      ]
    },
    {
      "cell_type": "markdown",
      "source": [
        "## 인공신경망 모형을 통한 성능 개선"
      ],
      "metadata": {
        "id": "sxjY8IG4pFYY"
      },
      "id": "sxjY8IG4pFYY"
    },
    {
      "cell_type": "markdown",
      "source": [
        "7가지 방법\n",
        "1. 데이터 전처리\n",
        "\n",
        "    - MinMaxScaler  :  [0,1]사이의 데이터로 변환\n",
        "    - StandardScaler : 평균 0이고, 분산이 1인 데이터로 변환\n",
        "    - RobustScaler :  데이터의 중위수(median)를 중심으로 정규화, 데이터의 이상치에 민감하지 않음\n",
        "\n",
        "2. 신경망 모형\n",
        "\n",
        "   - 은닉층의 갯수 (1개, 2개)\n",
        "   - 은닉층의 크기 hidden_size (10 ~ 50)\n",
        "\n",
        "3. 활성화 함수(Activation Function)\n",
        "   \n",
        "   - 계단 함수 (Step Function)\n",
        "   - 스그모이드(Sigmoid)\n",
        "   - ReLu\n",
        "   - Softplus\n",
        "\n",
        "4. 최적화 알고리즘\n",
        "   - SGD(Stochastic Gradient Descent)\n",
        "   - Momentum\n",
        "   - AdaGrad\n",
        "   - Adam (Adagrad + Momentum)\n",
        "\n",
        "5. 손실함수 (Loss Function)\n",
        "\n",
        "   - MSELoss()\n",
        "   - CrossEntropyLoss() 교차엔트로피 오차\n",
        "  \n",
        "6. Batch Normalization 적용\n",
        "\n",
        "   - Activation으로 전달되는 값이 표준 정규분포를 갖도록 강제\n",
        "\n",
        "7. Dropout 적용\n",
        "   - 뉴런을 임의로 삭제하면서 학습\n",
        "\n",
        "\n",
        "  "
      ],
      "metadata": {
        "id": "mksgLa6TqFd-"
      },
      "id": "mksgLa6TqFd-"
    },
    {
      "cell_type": "code",
      "source": [
        "X = employee_data.drop('LeaveOrNot',axis = 1)\n",
        "y = employee_data['LeaveOrNot']"
      ],
      "metadata": {
        "id": "EGahnim0mPA6"
      },
      "id": "EGahnim0mPA6",
      "execution_count": 47,
      "outputs": []
    },
    {
      "cell_type": "code",
      "source": [
        "# y를 2차원 텐서로 변환\n",
        "y = y.values.reshape(-1, 1)"
      ],
      "metadata": {
        "id": "bGjNbY5QlGb3"
      },
      "id": "bGjNbY5QlGb3",
      "execution_count": 48,
      "outputs": []
    },
    {
      "cell_type": "code",
      "execution_count": 79,
      "metadata": {
        "id": "MofkO_-uh5oc"
      },
      "outputs": [],
      "source": [
        "X_train, X_test,y_train, y_test = train_test_split(X, y, test_size = 0.2, random_state = 42)"
      ],
      "id": "MofkO_-uh5oc"
    },
    {
      "cell_type": "code",
      "source": [
        "# 데이터 정규화\n",
        "# scaler = MinMaxScaler()   # 데이터의 최소값을 0으로, 최대값을 1로 변환\n",
        "# scaler = StandardScaler() # 데이터의 평균을 0으로, 표준편차를 1로 변환\n",
        "scaler = RobustScaler()     # 데이터의 중위수(median)를 중심으로 정규화\n",
        "X_train = scaler.fit_transform(X_train)\n",
        "X_test = scaler.transform(X_test)"
      ],
      "metadata": {
        "id": "0Mp8utcrh0tJ"
      },
      "id": "0Mp8utcrh0tJ",
      "execution_count": 80,
      "outputs": []
    },
    {
      "cell_type": "code",
      "source": [
        "# Tensor로 변환\n",
        "X_train = torch.tensor(X_train, dtype=torch.float32)\n",
        "X_test = torch.tensor(X_test, dtype=torch.float32)\n",
        "y_train = torch.tensor(np.array(y_train), dtype=torch.long)\n",
        "y_test = torch.tensor(np.array(y_test), dtype=torch.long)\n",
        "\n",
        "# 데이터로더 정의\n",
        "train_data = TensorDataset(X_train, y_train)\n",
        "train_loader = DataLoader(train_data, batch_size=16, shuffle=True)"
      ],
      "metadata": {
        "id": "3ZU6NFRogaGy"
      },
      "id": "3ZU6NFRogaGy",
      "execution_count": 81,
      "outputs": []
    },
    {
      "cell_type": "code",
      "source": [
        "# 신경망 모델 정의\n",
        "class NeuralNetwork(nn.Module):\n",
        "    def __init__(self, input_size, hidden_size, output_size):\n",
        "        super(NeuralNetwork, self).__init__()\n",
        "        #self.bn1 = nn.BatchNorm1d(input_size)\n",
        "        self.fc1 = nn.Linear(input_size, hidden_size)\n",
        "        #self.dropout1 = nn.Dropout(0.2)\n",
        "        #self.bn2 = nn.BatchNorm1d(hidden_size)\n",
        "        self.fc2 = nn.Linear(hidden_size, hidden_size)\n",
        "        #self.dropout2 = nn.Dropout(0.2)\n",
        "        #self.bn3 = nn.BatchNorm1d(hidden_size)\n",
        "        #self.fc3 = nn.Linear(hidden_size, hidden_size)\n",
        "        self.fc3 = nn.Linear(hidden_size, output_size)\n",
        "\n",
        "    def forward(self, x):\n",
        "        #x = self.bn1(x)\n",
        "        x = torch.relu(self.fc1(x))\n",
        "        #x = torch.nn.functional.softplus(self.fc1(x))\n",
        "        #x = torch.threshold(self.fc1(x), thresh=0)\n",
        "        #x = self.dropout1(x)\n",
        "        #x = self.bn2(x)\n",
        "        #x = torch.sigmoid(self.fc2(x))\n",
        "        #x = torch.nn.functional.softplus(self.fc2(x))\n",
        "        #x = self.dropout2(x)\n",
        "        #x = self.bn3(x)\n",
        "        x = torch.relu(self.fc2(x))\n",
        "        #x = torch.nn.functional.softplus(self.fc3(x))\n",
        "        x = torch.sigmoid(self.fc3(x))\n",
        "        return x\n",
        "\n",
        "input_size = X.shape[1]\n",
        "hidden_size = 30  # 10 ~ 50\n",
        "output_size = 1\n",
        "model = NeuralNetwork(input_size, hidden_size, output_size)\n",
        "\n",
        "# 손실 함수 정의\n",
        "# criterion = nn.MSELoss()\n",
        "# criterion = nn.CrossEntropyLoss()\n",
        "criterion = nn.SmoothL1Loss()    # L1Loss() 함수와 MSELoss() 함수의 중간 정도의 성능을 보이는 손실 함수\n",
        "# criterion = nn.HuberLoss()     # L1Loss() 함수와 MSELoss() 함수의 특성을 모두 갖는 손실 함수\n",
        "\n",
        "\n",
        "# 옵티마이저 정의\n",
        "optimizer = torch.optim.Adam(model.parameters(), lr=0.001)\n",
        "# optimizer = torch.optim.SGD(model.parameters(), lr=0.001)\n",
        "# optimizer = torch.optim.SGD(model.parameters(), lr=0.001, momentum=0.9)\n",
        "# optimizer = torch.optim.RMSprop(model.parameters(), lr=0.001)\n",
        "\n",
        "\n",
        "# 모델 훈련(Neural network model)\n",
        "for epoch in range(100):\n",
        "    for inputs, targets in train_loader:\n",
        "        optimizer.zero_grad()\n",
        "        outputs = model(inputs)\n",
        "        loss = criterion(outputs, targets.float())\n",
        "        loss.backward()\n",
        "        optimizer.step()\n",
        "\n",
        "# X_test를 텐서로 변환하여 모델에 전달\n",
        "X_test_tensor = torch.tensor(X_test, dtype=torch.float32)\n",
        "\n",
        "# 테스트 데이터로 예측(Neural network model)\n",
        "with torch.no_grad():\n",
        "    outputs_test = model(X_test_tensor)\n",
        "    test_loss = criterion(outputs_test, y_test.float())\n",
        "    predicted_test = (outputs_test > 0.5).float()\n",
        "    test_accuracy = accuracy_score(y_test, predicted_test)\n",
        "    print(\"\\nTest Accuracy:\", test_accuracy)"
      ],
      "metadata": {
        "colab": {
          "base_uri": "https://localhost:8080/"
        },
        "id": "_DF1OLqOgZ_W",
        "outputId": "3cddd151-cb4a-4387-ced6-dfe4efedb368"
      },
      "id": "_DF1OLqOgZ_W",
      "execution_count": 82,
      "outputs": [
        {
          "output_type": "stream",
          "name": "stdout",
          "text": [
            "\n",
            "Test Accuracy: 0.874328678839957\n"
          ]
        },
        {
          "output_type": "stream",
          "name": "stderr",
          "text": [
            "<ipython-input-82-2ff3ff82bcd2>:60: UserWarning: To copy construct from a tensor, it is recommended to use sourceTensor.clone().detach() or sourceTensor.clone().detach().requires_grad_(True), rather than torch.tensor(sourceTensor).\n",
            "  X_test_tensor = torch.tensor(X_test, dtype=torch.float32)\n"
          ]
        }
      ]
    },
    {
      "cell_type": "markdown",
      "source": [
        "## 최종 결과 87.4%\n",
        "\n",
        "데이터 전처리 : RobustScaler\n",
        "\n",
        "손실함수 : SmoothL1Loss\n",
        "\n",
        "hidden_size : 30\n",
        "\n",
        "엑티베이션 함수 : 3단 relu relu sig\n",
        "\n",
        "옵티마이져 : adam\n",
        "\n",
        "(3의 7승 = 2187)\n",
        "\n",
        "## 데이터 전처리\n",
        "\n",
        "scaler = MinMaxScaler()... 86%\n",
        "\n",
        "scaler = StandardScaler()... 86%\n",
        "\n",
        "scaler = RobustScaler()... 87%로 개선\n",
        "\n",
        "## NeuralNetwork 신경망 모델 정의\n",
        "\n",
        "은닉층을 2개로 확장... 86%\n",
        "\n",
        "## hidden_size 사이즈 변경\n",
        "\n",
        "hidden_size = 10   ...  86%\n",
        "\n",
        "hidden_size = 20   ...  87%\n",
        "\n",
        "hidden_size = 30   ...  87.8%\n",
        "\n",
        "hidden_size = 40   ...  86.1%\n",
        "\n",
        "hidden_size = 50   ...  86.1%\n",
        "\n",
        "## 활성화 함수 변경\n",
        "\n",
        "relu, softplus, relu, sigmoid 87.1%\n",
        "\n",
        "softplus, softplus, softplus, sigmoid 86.2%\n",
        "\n",
        "relu, sigmoid, relu, sigmoid 87.1%\n",
        "\n",
        "### 손실함수 변경\n",
        "\n",
        "criterion = nn.MSELoss()    ... 86.4%\n",
        "\n",
        "criterion = nn.CrossEntropyLoss()  ... 65.5%\n",
        "\n",
        "criterion = nn.SmoothL1Loss()  ... 87.3%\n",
        "\n",
        "criterion = nn.HuberLoss() ... 86.3%\n",
        "\n",
        "### 옵티마이저 변경\n",
        "\n",
        "optimizer = torch.optim.Adam  ... 87.2%\n",
        "\n",
        "optimizer = torch.optim.SGD  ... 65.5%\n",
        "\n",
        "optimizer = torch.optim.SGD(model.parameters(), lr=0.001, momentum=0.9)   ... 65.5%\n",
        "\n",
        "optimizer = torch.optim.RMSprop(model.parameters(), lr=0.001)  ... 85.5%\n",
        "\n",
        "### Batch Normalization 및 Drop 추가\n",
        "\n",
        "BatchNorm1d 추가 ... 87.5%\n",
        "\n",
        "Drop 추가 ... 84.9%\n",
        "\n",
        "BatchNorm1d 및 DROP 추가 83%\n"
      ],
      "metadata": {
        "id": "1rSA2SCmjVjY"
      },
      "id": "1rSA2SCmjVjY"
    }
  ],
  "metadata": {
    "kernelspec": {
      "display_name": "Python 3",
      "name": "python3"
    },
    "language_info": {
      "codemirror_mode": {
        "name": "ipython",
        "version": 3
      },
      "file_extension": ".py",
      "mimetype": "text/x-python",
      "name": "python",
      "nbconvert_exporter": "python",
      "pygments_lexer": "ipython3",
      "version": "3.9.0"
    },
    "colab": {
      "provenance": [],
      "gpuType": "T4",
      "include_colab_link": true
    },
    "accelerator": "GPU"
  },
  "nbformat": 4,
  "nbformat_minor": 5
}